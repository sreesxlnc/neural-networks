{
 "cells": [
  {
   "cell_type": "code",
   "execution_count": 110,
   "metadata": {},
   "outputs": [
    {
     "name": "stdout",
     "output_type": "stream",
     "text": [
      "The autoreload extension is already loaded. To reload it, use:\n",
      "  %reload_ext autoreload\n"
     ]
    }
   ],
   "source": [
    "# %load first_cell.py\n",
    "import pandas as pd\n",
    "import numpy as np\n",
    "import matplotlib.pyplot as plt\n",
    "%matplotlib inline\n",
    "\n",
    "plt.style.use('fivethirtyeight')\n",
    "plt.rcParams['font.size'] = 18\n",
    "\n",
    "import seaborn as sns\n",
    "\n",
    "%load_ext autoreload\n",
    "%autoreload 2"
   ]
  },
  {
   "cell_type": "markdown",
   "metadata": {},
   "source": [
    "# Read in 5 million rows and create 2 new features"
   ]
  },
  {
   "cell_type": "code",
   "execution_count": 111,
   "metadata": {},
   "outputs": [
    {
     "data": {
      "text/html": [
       "<div>\n",
       "<style scoped>\n",
       "    .dataframe tbody tr th:only-of-type {\n",
       "        vertical-align: middle;\n",
       "    }\n",
       "\n",
       "    .dataframe tbody tr th {\n",
       "        vertical-align: top;\n",
       "    }\n",
       "\n",
       "    .dataframe thead th {\n",
       "        text-align: right;\n",
       "    }\n",
       "</style>\n",
       "<table border=\"1\" class=\"dataframe\">\n",
       "  <thead>\n",
       "    <tr style=\"text-align: right;\">\n",
       "      <th></th>\n",
       "      <th>fare_amount</th>\n",
       "      <th>pickup_datetime</th>\n",
       "      <th>pickup_longitude</th>\n",
       "      <th>pickup_latitude</th>\n",
       "      <th>dropoff_longitude</th>\n",
       "      <th>dropoff_latitude</th>\n",
       "      <th>passenger_count</th>\n",
       "      <th>abs_lat_diff</th>\n",
       "      <th>abs_lon_diff</th>\n",
       "    </tr>\n",
       "  </thead>\n",
       "  <tbody>\n",
       "    <tr>\n",
       "      <th>0</th>\n",
       "      <td>4.5</td>\n",
       "      <td>2009-06-15 17:26:21 UTC</td>\n",
       "      <td>-73.844311</td>\n",
       "      <td>40.721319</td>\n",
       "      <td>-73.841610</td>\n",
       "      <td>40.712278</td>\n",
       "      <td>1</td>\n",
       "      <td>0.009041</td>\n",
       "      <td>0.002701</td>\n",
       "    </tr>\n",
       "    <tr>\n",
       "      <th>1</th>\n",
       "      <td>16.9</td>\n",
       "      <td>2010-01-05 16:52:16 UTC</td>\n",
       "      <td>-74.016048</td>\n",
       "      <td>40.711303</td>\n",
       "      <td>-73.979268</td>\n",
       "      <td>40.782004</td>\n",
       "      <td>1</td>\n",
       "      <td>0.070701</td>\n",
       "      <td>0.036780</td>\n",
       "    </tr>\n",
       "    <tr>\n",
       "      <th>2</th>\n",
       "      <td>5.7</td>\n",
       "      <td>2011-08-18 00:35:00 UTC</td>\n",
       "      <td>-73.982738</td>\n",
       "      <td>40.761270</td>\n",
       "      <td>-73.991242</td>\n",
       "      <td>40.750562</td>\n",
       "      <td>2</td>\n",
       "      <td>0.010708</td>\n",
       "      <td>0.008504</td>\n",
       "    </tr>\n",
       "    <tr>\n",
       "      <th>3</th>\n",
       "      <td>7.7</td>\n",
       "      <td>2012-04-21 04:30:42 UTC</td>\n",
       "      <td>-73.987130</td>\n",
       "      <td>40.733143</td>\n",
       "      <td>-73.991567</td>\n",
       "      <td>40.758092</td>\n",
       "      <td>1</td>\n",
       "      <td>0.024949</td>\n",
       "      <td>0.004437</td>\n",
       "    </tr>\n",
       "    <tr>\n",
       "      <th>4</th>\n",
       "      <td>5.3</td>\n",
       "      <td>2010-03-09 07:51:00 UTC</td>\n",
       "      <td>-73.968095</td>\n",
       "      <td>40.768008</td>\n",
       "      <td>-73.956655</td>\n",
       "      <td>40.783762</td>\n",
       "      <td>1</td>\n",
       "      <td>0.015754</td>\n",
       "      <td>0.011440</td>\n",
       "    </tr>\n",
       "  </tbody>\n",
       "</table>\n",
       "</div>"
      ],
      "text/plain": [
       "   fare_amount          pickup_datetime  pickup_longitude  pickup_latitude  \\\n",
       "0          4.5  2009-06-15 17:26:21 UTC        -73.844311        40.721319   \n",
       "1         16.9  2010-01-05 16:52:16 UTC        -74.016048        40.711303   \n",
       "2          5.7  2011-08-18 00:35:00 UTC        -73.982738        40.761270   \n",
       "3          7.7  2012-04-21 04:30:42 UTC        -73.987130        40.733143   \n",
       "4          5.3  2010-03-09 07:51:00 UTC        -73.968095        40.768008   \n",
       "\n",
       "   dropoff_longitude  dropoff_latitude  passenger_count  abs_lat_diff  \\\n",
       "0         -73.841610         40.712278                1      0.009041   \n",
       "1         -73.979268         40.782004                1      0.070701   \n",
       "2         -73.991242         40.750562                2      0.010708   \n",
       "3         -73.991567         40.758092                1      0.024949   \n",
       "4         -73.956655         40.783762                1      0.015754   \n",
       "\n",
       "   abs_lon_diff  \n",
       "0      0.002701  \n",
       "1      0.036780  \n",
       "2      0.008504  \n",
       "3      0.004437  \n",
       "4      0.011440  "
      ]
     },
     "execution_count": 111,
     "metadata": {},
     "output_type": "execute_result"
    }
   ],
   "source": [
    "data = pd.read_csv('/data/taxi_fare/train.csv', nrows = 5_000_000).drop(columns = 'key')\n",
    "\n",
    "# Remove na\n",
    "data = data.dropna()\n",
    "\n",
    "# Absolute difference in latitude and longitude\n",
    "data['abs_lat_diff'] = (data['dropoff_latitude'] - data['pickup_latitude']).abs()\n",
    "data['abs_lon_diff'] = (data['dropoff_longitude'] - data['pickup_longitude']).abs()\n",
    "data.head()"
   ]
  },
  {
   "cell_type": "code",
   "execution_count": 71,
   "metadata": {},
   "outputs": [
    {
     "data": {
      "text/plain": [
       "<matplotlib.axes._subplots.AxesSubplot at 0x7f0ba909bc18>"
      ]
     },
     "execution_count": 71,
     "metadata": {},
     "output_type": "execute_result"
    },
    {
     "data": {
      "image/png": "[encoded data removed]",
      "text/plain": [
       "<Figure size 432x288 with 1 Axes>"
      ]
     },
     "metadata": {},
     "output_type": "display_data"
    }
   ],
   "source": [
    "sns.regplot('abs_lat_diff', 'abs_lon_diff', fit_reg = False, data = data.sample(100000))"
   ]
  },
  {
   "cell_type": "code",
   "execution_count": 72,
   "metadata": {},
   "outputs": [
    {
     "data": {
      "image/png": "[encoded data removed]",
      "text/plain": [
       "<Figure size 432x288 with 1 Axes>"
      ]
     },
     "metadata": {},
     "output_type": "display_data"
    }
   ],
   "source": [
    "sns.regplot('abs_lat_diff', 'abs_lon_diff', fit_reg = False, data = data.sample(100000))\n",
    "plt.xlim((-1, 5)); plt.ylim((-1, 5));"
   ]
  },
  {
   "cell_type": "code",
   "execution_count": 73,
   "metadata": {},
   "outputs": [
    {
     "data": {
      "image/png": "[encoded data removed]",
      "text/plain": [
       "<Figure size 1440x576 with 2 Axes>"
      ]
     },
     "metadata": {},
     "output_type": "display_data"
    }
   ],
   "source": [
    "fig, axes = plt.subplots(1, 2, figsize = (20, 8))\n",
    "axes = axes.flatten()\n",
    "\n",
    "sns.regplot('pickup_latitude', 'dropoff_latitude', fit_reg = False, data = data.sample(10000), ax = axes[0]);\n",
    "sns.regplot('pickup_longitude', 'dropoff_longitude', fit_reg = False, data = data.sample(10000), ax = axes[1]);"
   ]
  },
  {
   "cell_type": "code",
   "execution_count": 74,
   "metadata": {},
   "outputs": [
    {
     "data": {
      "text/html": [
       "<div>\n",
       "<style scoped>\n",
       "    .dataframe tbody tr th:only-of-type {\n",
       "        vertical-align: middle;\n",
       "    }\n",
       "\n",
       "    .dataframe tbody tr th {\n",
       "        vertical-align: top;\n",
       "    }\n",
       "\n",
       "    .dataframe thead th {\n",
       "        text-align: right;\n",
       "    }\n",
       "</style>\n",
       "<table border=\"1\" class=\"dataframe\">\n",
       "  <thead>\n",
       "    <tr style=\"text-align: right;\">\n",
       "      <th></th>\n",
       "      <th>pickup_longitude</th>\n",
       "      <th>dropoff_longitude</th>\n",
       "      <th>pickup_latitude</th>\n",
       "      <th>dropoff_latitude</th>\n",
       "    </tr>\n",
       "  </thead>\n",
       "  <tbody>\n",
       "    <tr>\n",
       "      <th>count</th>\n",
       "      <td>4.999964e+06</td>\n",
       "      <td>4.999964e+06</td>\n",
       "      <td>4.999964e+06</td>\n",
       "      <td>4.999964e+06</td>\n",
       "    </tr>\n",
       "    <tr>\n",
       "      <th>mean</th>\n",
       "      <td>-7.250681e+01</td>\n",
       "      <td>-7.250652e+01</td>\n",
       "      <td>3.991976e+01</td>\n",
       "      <td>3.991725e+01</td>\n",
       "    </tr>\n",
       "    <tr>\n",
       "      <th>std</th>\n",
       "      <td>1.280962e+01</td>\n",
       "      <td>1.284777e+01</td>\n",
       "      <td>8.963488e+00</td>\n",
       "      <td>9.486767e+00</td>\n",
       "    </tr>\n",
       "    <tr>\n",
       "      <th>min</th>\n",
       "      <td>-3.426609e+03</td>\n",
       "      <td>-3.412653e+03</td>\n",
       "      <td>-3.488080e+03</td>\n",
       "      <td>-3.488080e+03</td>\n",
       "    </tr>\n",
       "    <tr>\n",
       "      <th>25%</th>\n",
       "      <td>-7.399206e+01</td>\n",
       "      <td>-7.399139e+01</td>\n",
       "      <td>4.073491e+01</td>\n",
       "      <td>4.073404e+01</td>\n",
       "    </tr>\n",
       "    <tr>\n",
       "      <th>50%</th>\n",
       "      <td>-7.398181e+01</td>\n",
       "      <td>-7.398016e+01</td>\n",
       "      <td>4.075263e+01</td>\n",
       "      <td>4.075315e+01</td>\n",
       "    </tr>\n",
       "    <tr>\n",
       "      <th>75%</th>\n",
       "      <td>-7.396711e+01</td>\n",
       "      <td>-7.396367e+01</td>\n",
       "      <td>4.076712e+01</td>\n",
       "      <td>4.076811e+01</td>\n",
       "    </tr>\n",
       "    <tr>\n",
       "      <th>max</th>\n",
       "      <td>3.439426e+03</td>\n",
       "      <td>3.457622e+03</td>\n",
       "      <td>3.310364e+03</td>\n",
       "      <td>3.345917e+03</td>\n",
       "    </tr>\n",
       "  </tbody>\n",
       "</table>\n",
       "</div>"
      ],
      "text/plain": [
       "       pickup_longitude  dropoff_longitude  pickup_latitude  dropoff_latitude\n",
       "count      4.999964e+06       4.999964e+06     4.999964e+06      4.999964e+06\n",
       "mean      -7.250681e+01      -7.250652e+01     3.991976e+01      3.991725e+01\n",
       "std        1.280962e+01       1.284777e+01     8.963488e+00      9.486767e+00\n",
       "min       -3.426609e+03      -3.412653e+03    -3.488080e+03     -3.488080e+03\n",
       "25%       -7.399206e+01      -7.399139e+01     4.073491e+01      4.073404e+01\n",
       "50%       -7.398181e+01      -7.398016e+01     4.075263e+01      4.075315e+01\n",
       "75%       -7.396711e+01      -7.396367e+01     4.076712e+01      4.076811e+01\n",
       "max        3.439426e+03       3.457622e+03     3.310364e+03      3.345917e+03"
      ]
     },
     "execution_count": 74,
     "metadata": {},
     "output_type": "execute_result"
    }
   ],
   "source": [
    "data[['pickup_longitude', 'dropoff_longitude', 'pickup_latitude', 'dropoff_latitude']].describe()"
   ]
  },
  {
   "cell_type": "markdown",
   "metadata": {},
   "source": [
    "# Remove outliers based on latitude and longitude"
   ]
  },
  {
   "cell_type": "code",
   "execution_count": 75,
   "metadata": {},
   "outputs": [],
   "source": [
    "data = data[(data['pickup_longitude'] > -75) & (data['dropoff_longitude'] < -70)]\n",
    "data = data[(data['pickup_latitude'] > 40) & (data['dropoff_latitude'] < 45)]"
   ]
  },
  {
   "cell_type": "code",
   "execution_count": 121,
   "metadata": {},
   "outputs": [],
   "source": [
    "# Filter outliers\n",
    "data = data[data['abs_lat_diff'] < 1]\n",
    "data = data[data['abs_lon_diff'] < 1]"
   ]
  },
  {
   "cell_type": "code",
   "execution_count": 77,
   "metadata": {},
   "outputs": [
    {
     "data": {
      "image/png": "[encoded data removed]",
      "text/plain": [
       "<Figure size 1440x576 with 2 Axes>"
      ]
     },
     "metadata": {},
     "output_type": "display_data"
    }
   ],
   "source": [
    "fig, axes = plt.subplots(1, 2, figsize = (20, 8))\n",
    "axes = axes.flatten()\n",
    "\n",
    "sns.regplot('pickup_latitude', 'dropoff_latitude', fit_reg = False, data = data.sample(10000), ax = axes[0]);\n",
    "sns.regplot('pickup_longitude', 'dropoff_longitude', fit_reg = False, data = data.sample(10000), ax = axes[1]);"
   ]
  },
  {
   "cell_type": "code",
   "execution_count": 112,
   "metadata": {},
   "outputs": [],
   "source": [
    "test = pd.read_csv('/data/taxi_fare/test.csv')\n",
    "\n",
    "test['abs_lat_diff'] = (test['dropoff_latitude'] - test['pickup_latitude']).abs()\n",
    "test['abs_lon_diff'] = (test['dropoff_longitude'] - test['pickup_longitude']).abs()\n",
    "\n",
    "test_id = list(test.pop('key'))"
   ]
  },
  {
   "cell_type": "code",
   "execution_count": 79,
   "metadata": {},
   "outputs": [
    {
     "data": {
      "text/html": [
       "<div>\n",
       "<style scoped>\n",
       "    .dataframe tbody tr th:only-of-type {\n",
       "        vertical-align: middle;\n",
       "    }\n",
       "\n",
       "    .dataframe tbody tr th {\n",
       "        vertical-align: top;\n",
       "    }\n",
       "\n",
       "    .dataframe thead th {\n",
       "        text-align: right;\n",
       "    }\n",
       "</style>\n",
       "<table border=\"1\" class=\"dataframe\">\n",
       "  <thead>\n",
       "    <tr style=\"text-align: right;\">\n",
       "      <th></th>\n",
       "      <th>pickup_longitude</th>\n",
       "      <th>dropoff_longitude</th>\n",
       "      <th>pickup_latitude</th>\n",
       "      <th>dropoff_latitude</th>\n",
       "      <th>abs_lat_diff</th>\n",
       "      <th>abs_lon_diff</th>\n",
       "    </tr>\n",
       "  </thead>\n",
       "  <tbody>\n",
       "    <tr>\n",
       "      <th>count</th>\n",
       "      <td>9914.000000</td>\n",
       "      <td>9914.000000</td>\n",
       "      <td>9914.000000</td>\n",
       "      <td>9914.000000</td>\n",
       "      <td>9914.000000</td>\n",
       "      <td>9914.000000</td>\n",
       "    </tr>\n",
       "    <tr>\n",
       "      <th>mean</th>\n",
       "      <td>-73.974722</td>\n",
       "      <td>-73.973657</td>\n",
       "      <td>40.751041</td>\n",
       "      <td>40.751743</td>\n",
       "      <td>0.022133</td>\n",
       "      <td>0.023348</td>\n",
       "    </tr>\n",
       "    <tr>\n",
       "      <th>std</th>\n",
       "      <td>0.042774</td>\n",
       "      <td>0.039072</td>\n",
       "      <td>0.033541</td>\n",
       "      <td>0.035435</td>\n",
       "      <td>0.025589</td>\n",
       "      <td>0.036719</td>\n",
       "    </tr>\n",
       "    <tr>\n",
       "      <th>min</th>\n",
       "      <td>-74.252193</td>\n",
       "      <td>-74.263242</td>\n",
       "      <td>40.573143</td>\n",
       "      <td>40.568973</td>\n",
       "      <td>0.000000</td>\n",
       "      <td>0.000000</td>\n",
       "    </tr>\n",
       "    <tr>\n",
       "      <th>25%</th>\n",
       "      <td>-73.992501</td>\n",
       "      <td>-73.991247</td>\n",
       "      <td>40.736125</td>\n",
       "      <td>40.735254</td>\n",
       "      <td>0.007279</td>\n",
       "      <td>0.006354</td>\n",
       "    </tr>\n",
       "    <tr>\n",
       "      <th>50%</th>\n",
       "      <td>-73.982326</td>\n",
       "      <td>-73.980015</td>\n",
       "      <td>40.753051</td>\n",
       "      <td>40.754065</td>\n",
       "      <td>0.014715</td>\n",
       "      <td>0.013123</td>\n",
       "    </tr>\n",
       "    <tr>\n",
       "      <th>75%</th>\n",
       "      <td>-73.968013</td>\n",
       "      <td>-73.964059</td>\n",
       "      <td>40.767113</td>\n",
       "      <td>40.768757</td>\n",
       "      <td>0.028261</td>\n",
       "      <td>0.024557</td>\n",
       "    </tr>\n",
       "    <tr>\n",
       "      <th>max</th>\n",
       "      <td>-72.986532</td>\n",
       "      <td>-72.990963</td>\n",
       "      <td>41.709555</td>\n",
       "      <td>41.696683</td>\n",
       "      <td>0.633213</td>\n",
       "      <td>0.849168</td>\n",
       "    </tr>\n",
       "  </tbody>\n",
       "</table>\n",
       "</div>"
      ],
      "text/plain": [
       "       pickup_longitude  dropoff_longitude  pickup_latitude  dropoff_latitude  \\\n",
       "count       9914.000000        9914.000000      9914.000000       9914.000000   \n",
       "mean         -73.974722         -73.973657        40.751041         40.751743   \n",
       "std            0.042774           0.039072         0.033541          0.035435   \n",
       "min          -74.252193         -74.263242        40.573143         40.568973   \n",
       "25%          -73.992501         -73.991247        40.736125         40.735254   \n",
       "50%          -73.982326         -73.980015        40.753051         40.754065   \n",
       "75%          -73.968013         -73.964059        40.767113         40.768757   \n",
       "max          -72.986532         -72.990963        41.709555         41.696683   \n",
       "\n",
       "       abs_lat_diff  abs_lon_diff  \n",
       "count   9914.000000   9914.000000  \n",
       "mean       0.022133      0.023348  \n",
       "std        0.025589      0.036719  \n",
       "min        0.000000      0.000000  \n",
       "25%        0.007279      0.006354  \n",
       "50%        0.014715      0.013123  \n",
       "75%        0.028261      0.024557  \n",
       "max        0.633213      0.849168  "
      ]
     },
     "execution_count": 79,
     "metadata": {},
     "output_type": "execute_result"
    }
   ],
   "source": [
    "test[['pickup_longitude', 'dropoff_longitude', 'pickup_latitude', 'dropoff_latitude', 'abs_lat_diff', 'abs_lon_diff']].describe()"
   ]
  },
  {
   "cell_type": "markdown",
   "metadata": {},
   "source": [
    "# Calculate Distance between points using Haversine distance"
   ]
  },
  {
   "cell_type": "code",
   "execution_count": 113,
   "metadata": {},
   "outputs": [],
   "source": [
    "R = 6378\n",
    "\n",
    "def haversine_np(lon1, lat1, lon2, lat2):\n",
    "    \"\"\"\n",
    "    Calculate the great circle distance between two points\n",
    "    on the earth (specified in decimal degrees)\n",
    "\n",
    "    All args must be of equal length.    \n",
    "    \n",
    "    source: https://stackoverflow.com/a/29546836\n",
    "\n",
    "    \"\"\"\n",
    "    lon1, lat1, lon2, lat2 = map(np.radians, [lon1, lat1, lon2, lat2])\n",
    "\n",
    "    dlon = lon2 - lon1\n",
    "    dlat = lat2 - lat1\n",
    "\n",
    "    a = np.sin(dlat/2.0)**2 + np.cos(lat1) * np.cos(lat2) * np.sin(dlon/2.0)**2\n",
    "\n",
    "    c = 2 * np.arcsin(np.sqrt(a))\n",
    "    km = R * c\n",
    "    return km"
   ]
  },
  {
   "cell_type": "code",
   "execution_count": 114,
   "metadata": {},
   "outputs": [],
   "source": [
    "data['haversine'] =  haversine_np(data['pickup_longitude'], data['pickup_latitude'],\n",
    "                         data['dropoff_longitude'], data['dropoff_latitude']) "
   ]
  },
  {
   "cell_type": "code",
   "execution_count": 115,
   "metadata": {},
   "outputs": [],
   "source": [
    "test['haversine'] = haversine_np(test['pickup_longitude'], test['pickup_latitude'],\n",
    "                         test['dropoff_longitude'], test['dropoff_latitude'])"
   ]
  },
  {
   "cell_type": "code",
   "execution_count": 83,
   "metadata": {},
   "outputs": [
    {
     "data": {
      "image/png": "[encoded data removed]",
      "text/plain": [
       "<Figure size 432x288 with 1 Axes>"
      ]
     },
     "metadata": {},
     "output_type": "display_data"
    }
   ],
   "source": [
    "sns.kdeplot(data['haversine']);"
   ]
  },
  {
   "cell_type": "code",
   "execution_count": 84,
   "metadata": {},
   "outputs": [
    {
     "data": {
      "image/png": "[encoded data removed]",
      "text/plain": [
       "<Figure size 432x288 with 1 Axes>"
      ]
     },
     "metadata": {},
     "output_type": "display_data"
    }
   ],
   "source": [
    "sns.kdeplot(test['haversine']);"
   ]
  },
  {
   "cell_type": "code",
   "execution_count": 53,
   "metadata": {},
   "outputs": [],
   "source": [
    "data = data[data['fare_amount'] > 0]"
   ]
  },
  {
   "cell_type": "markdown",
   "metadata": {},
   "source": [
    "# First Model"
   ]
  },
  {
   "cell_type": "code",
   "execution_count": 122,
   "metadata": {},
   "outputs": [],
   "source": [
    "from sklearn.linear_model import LinearRegression\n",
    "from sklearn.model_selection import train_test_split\n",
    "\n",
    "lr = LinearRegression()"
   ]
  },
  {
   "cell_type": "markdown",
   "metadata": {},
   "source": [
    "## Create Training and Validation Set"
   ]
  },
  {
   "cell_type": "code",
   "execution_count": 123,
   "metadata": {},
   "outputs": [],
   "source": [
    "X_train, X_valid, y_train, y_valid = train_test_split(data, np.array(data['fare_amount']), \n",
    "                                                      random_state = 40, test_size = 1_000_000)"
   ]
  },
  {
   "cell_type": "markdown",
   "metadata": {},
   "source": [
    "### Use Simple Features"
   ]
  },
  {
   "cell_type": "code",
   "execution_count": 124,
   "metadata": {},
   "outputs": [
    {
     "name": "stdout",
     "output_type": "stream",
     "text": [
      "Intercept 5.2772\n",
      "abs_lat_diff coef:  111.4904 abs_lon_diff coef: 166.2069\n"
     ]
    }
   ],
   "source": [
    "lr.fit(X_train[['abs_lat_diff', 'abs_lon_diff']], y_train)\n",
    "\n",
    "print('Intercept', round(lr.intercept_, 4))\n",
    "print('abs_lat_diff coef: ', round(lr.coef_[0], 4), 'abs_lon_diff coef:', round(lr.coef_[1], 4))"
   ]
  },
  {
   "cell_type": "markdown",
   "metadata": {},
   "source": [
    "In both cases, the coefficient is positive, indicating a larger absolute difference corresponds to a larger fare according to the model. The `intercept` indicates the fare that would be predicted if there is no latitude or longitude difference."
   ]
  },
  {
   "cell_type": "markdown",
   "metadata": {},
   "source": [
    "#### Score Model\n",
    "\n",
    "Use the validation set for assessing the model. We'll use two metrics:\n",
    "\n",
    "* Root mean squared error: the metric used by the competition\n",
    "* Mean absolute percentage error: the average percentage error of the predictions"
   ]
  },
  {
   "cell_type": "code",
   "execution_count": 57,
   "metadata": {},
   "outputs": [
    {
     "data": {
      "text/html": [
       "<div>\n",
       "<style scoped>\n",
       "    .dataframe tbody tr th:only-of-type {\n",
       "        vertical-align: middle;\n",
       "    }\n",
       "\n",
       "    .dataframe tbody tr th {\n",
       "        vertical-align: top;\n",
       "    }\n",
       "\n",
       "    .dataframe thead th {\n",
       "        text-align: right;\n",
       "    }\n",
       "</style>\n",
       "<table border=\"1\" class=\"dataframe\">\n",
       "  <thead>\n",
       "    <tr style=\"text-align: right;\">\n",
       "      <th></th>\n",
       "      <th>fare_amount</th>\n",
       "      <th>pickup_datetime</th>\n",
       "      <th>pickup_longitude</th>\n",
       "      <th>pickup_latitude</th>\n",
       "      <th>dropoff_longitude</th>\n",
       "      <th>dropoff_latitude</th>\n",
       "      <th>passenger_count</th>\n",
       "      <th>abs_lat_diff</th>\n",
       "      <th>abs_lon_diff</th>\n",
       "      <th>haversine</th>\n",
       "    </tr>\n",
       "  </thead>\n",
       "  <tbody>\n",
       "  </tbody>\n",
       "</table>\n",
       "</div>"
      ],
      "text/plain": [
       "Empty DataFrame\n",
       "Columns: [fare_amount, pickup_datetime, pickup_longitude, pickup_latitude, dropoff_longitude, dropoff_latitude, passenger_count, abs_lat_diff, abs_lon_diff, haversine]\n",
       "Index: []"
      ]
     },
     "execution_count": 57,
     "metadata": {},
     "output_type": "execute_result"
    }
   ],
   "source": [
    "data[data['fare_amount'] == 0]"
   ]
  },
  {
   "cell_type": "code",
   "execution_count": 125,
   "metadata": {},
   "outputs": [],
   "source": [
    "from sklearn.metrics import mean_squared_error\n",
    "\n",
    "def mape(y_true, y_pred):\n",
    "    \"\"\"Mean absolute percentage error\"\"\"\n",
    "    # Calculate absolute percentage error\n",
    "    ape = abs((y_true - y_pred) / y_true)\n",
    "    \n",
    "    # Account for y values of 0\n",
    "    ape[ape == np.inf] = 0\n",
    "    ape[ape == -np.inf] = 0\n",
    "    \n",
    "    return 100 * np.mean(ape)"
   ]
  },
  {
   "cell_type": "code",
   "execution_count": 126,
   "metadata": {},
   "outputs": [
    {
     "name": "stdout",
     "output_type": "stream",
     "text": [
      "Root mean squared error:  5.9001\n",
      "Mean absolute percentage error:  30.4613\n"
     ]
    },
    {
     "name": "stderr",
     "output_type": "stream",
     "text": [
      "/home/ubuntu/anaconda3/lib/python3.6/site-packages/ipykernel_launcher.py:6: RuntimeWarning: divide by zero encountered in true_divide\n",
      "  \n"
     ]
    }
   ],
   "source": [
    "valid_preds = lr.predict(X_valid[['abs_lat_diff', 'abs_lon_diff']])\n",
    "\n",
    "rmse = np.sqrt(mean_squared_error(y_valid, valid_preds))\n",
    "mape_ = mape(y_valid, valid_preds)\n",
    "\n",
    "print('Root mean squared error: ', round(rmse, 4))\n",
    "print('Mean absolute percentage error: ', round(mape_, 4))"
   ]
  },
  {
   "cell_type": "code",
   "execution_count": 127,
   "metadata": {},
   "outputs": [],
   "source": [
    "preds = lr.predict(test[['abs_lat_diff', 'abs_lon_diff']])\n",
    "\n",
    "sub = pd.DataFrame({'key': test_id, 'fare_amount': preds})\n",
    "sub.to_csv('sub_lr.csv', index = False)"
   ]
  },
  {
   "cell_type": "markdown",
   "metadata": {},
   "source": [
    "## Use Non-Linear Model"
   ]
  },
  {
   "cell_type": "code",
   "execution_count": 129,
   "metadata": {},
   "outputs": [
    {
     "name": "stderr",
     "output_type": "stream",
     "text": [
      "[Parallel(n_jobs=-1)]: Done  42 tasks      | elapsed:  4.3min\n",
      "[Parallel(n_jobs=-1)]: Done 100 out of 100 | elapsed:  9.9min finished\n"
     ]
    },
    {
     "data": {
      "text/plain": [
       "RandomForestRegressor(bootstrap=True, criterion='mse', max_depth=25,\n",
       "           max_features=None, max_leaf_nodes=None,\n",
       "           min_impurity_decrease=0.0, min_impurity_split=None,\n",
       "           min_samples_leaf=1, min_samples_split=2,\n",
       "           min_weight_fraction_leaf=0.0, n_estimators=100, n_jobs=-1,\n",
       "           oob_score=True, random_state=None, verbose=1, warm_start=False)"
      ]
     },
     "execution_count": 129,
     "metadata": {},
     "output_type": "execute_result"
    }
   ],
   "source": [
    "from sklearn.ensemble import RandomForestRegressor\n",
    "\n",
    "random_forest = RandomForestRegressor(n_estimators = 100, max_depth = 25, \n",
    "                                      max_features = None, oob_score = True, \n",
    "                                      bootstrap = True, verbose = 1, n_jobs = -1)\n",
    "random_forest.fit(X_train[['abs_lat_diff', 'abs_lon_diff']], y_train)"
   ]
  },
  {
   "cell_type": "code",
   "execution_count": 130,
   "metadata": {},
   "outputs": [
    {
     "name": "stderr",
     "output_type": "stream",
     "text": [
      "[Parallel(n_jobs=4)]: Done  42 tasks      | elapsed:    5.9s\n"
     ]
    },
    {
     "name": "stdout",
     "output_type": "stream",
     "text": [
      "Root mean squared error:  4.9804\n",
      "Mean absolute percentage error:  24.7958\n"
     ]
    },
    {
     "name": "stderr",
     "output_type": "stream",
     "text": [
      "[Parallel(n_jobs=4)]: Done 100 out of 100 | elapsed:   13.6s finished\n",
      "/home/ubuntu/anaconda3/lib/python3.6/site-packages/ipykernel_launcher.py:6: RuntimeWarning: divide by zero encountered in true_divide\n",
      "  \n"
     ]
    }
   ],
   "source": [
    "valid_preds = random_forest.predict(X_valid[['abs_lat_diff', 'abs_lon_diff']])\n",
    "\n",
    "rmse = np.sqrt(mean_squared_error(y_valid, valid_preds))\n",
    "mape_ = mape(y_valid, valid_preds)\n",
    "\n",
    "print('Root mean squared error: ', round(rmse, 4))\n",
    "print('Mean absolute percentage error: ', round(mape_, 4))"
   ]
  },
  {
   "cell_type": "code",
   "execution_count": 131,
   "metadata": {},
   "outputs": [
    {
     "name": "stderr",
     "output_type": "stream",
     "text": [
      "[Parallel(n_jobs=4)]: Done  42 tasks      | elapsed:    0.1s\n",
      "[Parallel(n_jobs=4)]: Done 100 out of 100 | elapsed:    0.2s finished\n"
     ]
    }
   ],
   "source": [
    "preds = random_forest.predict(test[['abs_lat_diff', 'abs_lon_diff']])\n",
    "\n",
    "sub = pd.DataFrame({'key': test_id, 'fare_amount': preds})\n",
    "sub.to_csv('sub_rf.csv', index = False)"
   ]
  },
  {
   "cell_type": "markdown",
   "metadata": {},
   "source": [
    "# More Features"
   ]
  },
  {
   "cell_type": "code",
   "execution_count": 133,
   "metadata": {},
   "outputs": [],
   "source": [
    "def model_rf(X_train, X_valid, y_train, y_valid, test, features,\n",
    "             model = RandomForestRegressor(n_estimators = 100, max_depth = 20,\n",
    "                                           n_jobs = -1, verbose = 1)):\n",
    "    \n",
    "    # Train\n",
    "    model.fit(X_train[features], y_train)\n",
    "    \n",
    "    # Validation\n",
    "    valid_preds = model.predict(X_valid[features])\n",
    "    rmse = np.sqrt(mean_squared_error(y_valid, valid_preds))\n",
    "    mape_ = mape(y_valid, valid_preds)\n",
    "    \n",
    "    print('Root mean squared error: ', round(rmse, 4))\n",
    "    print('Mean absolute percentage error: ', round(mape_, 4))\n",
    "    \n",
    "    # Make predictions on test and generate submission dataframe\n",
    "    preds = model.predict(test[features])\n",
    "    sub = pd.DataFrame({'key': test_id, 'fare_amount': preds})\n",
    "    \n",
    "    # Extract feature importances\n",
    "    feature_importances = pd.DataFrame({'feature': features,\n",
    "                                        'importance': model.feature_importances_}).\\\n",
    "                           sort_values('importance', ascending = False)\n",
    "    \n",
    "    return sub, feature_importances"
   ]
  },
  {
   "cell_type": "code",
   "execution_count": 134,
   "metadata": {},
   "outputs": [
    {
     "name": "stderr",
     "output_type": "stream",
     "text": [
      "[Parallel(n_jobs=-1)]: Done  42 tasks      | elapsed:  6.1min\n",
      "[Parallel(n_jobs=-1)]: Done 100 out of 100 | elapsed: 13.5min finished\n",
      "[Parallel(n_jobs=4)]: Done  42 tasks      | elapsed:    3.8s\n",
      "[Parallel(n_jobs=4)]: Done 100 out of 100 | elapsed:    8.7s finished\n",
      "/home/ubuntu/anaconda3/lib/python3.6/site-packages/ipykernel_launcher.py:6: RuntimeWarning: divide by zero encountered in true_divide\n",
      "  \n",
      "[Parallel(n_jobs=4)]: Done  42 tasks      | elapsed:    0.0s\n"
     ]
    },
    {
     "name": "stdout",
     "output_type": "stream",
     "text": [
      "Root mean squared error:  4.866\n",
      "Mean absolute percentage error:  24.4053\n"
     ]
    },
    {
     "name": "stderr",
     "output_type": "stream",
     "text": [
      "[Parallel(n_jobs=4)]: Done 100 out of 100 | elapsed:    0.1s finished\n"
     ]
    }
   ],
   "source": [
    "sub, fi = model_rf(X_train, X_valid, y_train, y_valid, test, \n",
    "                   features = ['abs_lat_diff', 'abs_lon_diff', 'haversine', 'passenger_count'])"
   ]
  },
  {
   "cell_type": "code",
   "execution_count": 135,
   "metadata": {},
   "outputs": [
    {
     "name": "stderr",
     "output_type": "stream",
     "text": [
      "[Parallel(n_jobs=-1)]: Done  42 tasks      | elapsed: 12.2min\n",
      "[Parallel(n_jobs=-1)]: Done 100 out of 100 | elapsed: 28.8min finished\n",
      "[Parallel(n_jobs=4)]: Done  42 tasks      | elapsed:    3.7s\n",
      "[Parallel(n_jobs=4)]: Done 100 out of 100 | elapsed:    8.5s finished\n",
      "/home/ubuntu/anaconda3/lib/python3.6/site-packages/ipykernel_launcher.py:6: RuntimeWarning: divide by zero encountered in true_divide\n",
      "  \n",
      "[Parallel(n_jobs=4)]: Done  42 tasks      | elapsed:    0.0s\n"
     ]
    },
    {
     "name": "stdout",
     "output_type": "stream",
     "text": [
      "Root mean squared error:  4.2771\n",
      "Mean absolute percentage error:  23.0186\n"
     ]
    },
    {
     "name": "stderr",
     "output_type": "stream",
     "text": [
      "[Parallel(n_jobs=4)]: Done 100 out of 100 | elapsed:    0.1s finished\n"
     ]
    }
   ],
   "source": [
    "sub, fi = model_rf(X_train, X_valid, y_train, y_valid, test, \n",
    "                   features = ['abs_lat_diff', 'abs_lon_diff', 'haversine', 'passenger_count',\n",
    "                               'pickup_latitude', 'pickup_longitude', 'dropoff_latitude', 'dropoff_longitude'])"
   ]
  },
  {
   "cell_type": "code",
   "execution_count": 136,
   "metadata": {},
   "outputs": [],
   "source": [
    "sub.to_csv('sub_rf_8_features.csv', index = False)"
   ]
  },
  {
   "cell_type": "code",
   "execution_count": 137,
   "metadata": {},
   "outputs": [
    {
     "data": {
      "text/html": [
       "<div>\n",
       "<style scoped>\n",
       "    .dataframe tbody tr th:only-of-type {\n",
       "        vertical-align: middle;\n",
       "    }\n",
       "\n",
       "    .dataframe tbody tr th {\n",
       "        vertical-align: top;\n",
       "    }\n",
       "\n",
       "    .dataframe thead th {\n",
       "        text-align: right;\n",
       "    }\n",
       "</style>\n",
       "<table border=\"1\" class=\"dataframe\">\n",
       "  <thead>\n",
       "    <tr style=\"text-align: right;\">\n",
       "      <th></th>\n",
       "      <th>feature</th>\n",
       "      <th>importance</th>\n",
       "    </tr>\n",
       "  </thead>\n",
       "  <tbody>\n",
       "    <tr>\n",
       "      <th>2</th>\n",
       "      <td>haversine</td>\n",
       "      <td>0.833396</td>\n",
       "    </tr>\n",
       "    <tr>\n",
       "      <th>7</th>\n",
       "      <td>dropoff_longitude</td>\n",
       "      <td>0.045532</td>\n",
       "    </tr>\n",
       "    <tr>\n",
       "      <th>1</th>\n",
       "      <td>abs_lon_diff</td>\n",
       "      <td>0.031536</td>\n",
       "    </tr>\n",
       "    <tr>\n",
       "      <th>6</th>\n",
       "      <td>dropoff_latitude</td>\n",
       "      <td>0.027765</td>\n",
       "    </tr>\n",
       "    <tr>\n",
       "      <th>5</th>\n",
       "      <td>pickup_longitude</td>\n",
       "      <td>0.025412</td>\n",
       "    </tr>\n",
       "    <tr>\n",
       "      <th>4</th>\n",
       "      <td>pickup_latitude</td>\n",
       "      <td>0.020647</td>\n",
       "    </tr>\n",
       "    <tr>\n",
       "      <th>0</th>\n",
       "      <td>abs_lat_diff</td>\n",
       "      <td>0.013098</td>\n",
       "    </tr>\n",
       "    <tr>\n",
       "      <th>3</th>\n",
       "      <td>passenger_count</td>\n",
       "      <td>0.002614</td>\n",
       "    </tr>\n",
       "  </tbody>\n",
       "</table>\n",
       "</div>"
      ],
      "text/plain": [
       "             feature  importance\n",
       "2          haversine    0.833396\n",
       "7  dropoff_longitude    0.045532\n",
       "1       abs_lon_diff    0.031536\n",
       "6   dropoff_latitude    0.027765\n",
       "5   pickup_longitude    0.025412\n",
       "4    pickup_latitude    0.020647\n",
       "0       abs_lat_diff    0.013098\n",
       "3    passenger_count    0.002614"
      ]
     },
     "execution_count": 137,
     "metadata": {},
     "output_type": "execute_result"
    }
   ],
   "source": [
    "fi"
   ]
  },
  {
   "cell_type": "markdown",
   "metadata": {},
   "source": [
    "## Extract Datetime Information"
   ]
  },
  {
   "cell_type": "code",
   "execution_count": 144,
   "metadata": {},
   "outputs": [],
   "source": [
    "import re\n",
    "\n",
    "def extract_dateinfo(df, date_col, drop=True, time=False, \n",
    "                     start_ref = pd.datetime(1900, 1, 1),\n",
    "                     extra_attr = False):\n",
    "    \"\"\"\n",
    "    Extract Date Information from a DataFrame\n",
    "    Adapted from: https://github.com/fastai/fastai/blob/master/fastai/structured.py\n",
    "    \"\"\"\n",
    "    df = df.copy()\n",
    "    \n",
    "    # Extract the field\n",
    "    fld = df[date_col]\n",
    "    \n",
    "    # Check the time\n",
    "    fld_dtype = fld.dtype\n",
    "    if isinstance(fld_dtype, pd.core.dtypes.dtypes.DatetimeTZDtype):\n",
    "        fld_dtype = np.datetime64\n",
    "\n",
    "    # Convert to datetime if not already\n",
    "    if not np.issubdtype(fld_dtype, np.datetime64):\n",
    "        df[date_col] = fld = pd.to_datetime(fld, infer_datetime_format=True)\n",
    "    \n",
    "    \n",
    "    targ_pre = re.sub('[Dd]ate', '', date_col)\n",
    "    targ_pre = re.sub('[Tt]ime', '', targ_pre)\n",
    "    \n",
    "    # Basic attributes\n",
    "    attr = ['Year', 'Month', 'Week', 'Day', 'Dayofweek', 'Dayofyear']\n",
    "    \n",
    "    # Additional attributes\n",
    "    if extra_attr:\n",
    "        attr = attr + ['Is_month_end', 'Is_month_start', 'Is_quarter_end', \n",
    "                       'Is_quarter_start', 'Is_year_end', 'Is_year_start']\n",
    "    \n",
    "    # If time is specified, extract time information\n",
    "    if time: \n",
    "        attr = attr + ['Hour', 'Minute', 'Second']\n",
    "        \n",
    "    # Iterate through each attribute\n",
    "    for n in attr: \n",
    "        df[targ_pre + n] = getattr(fld.dt, n.lower())\n",
    "        \n",
    "    if time:\n",
    "        # Add fractional time of day\n",
    "        df[targ_pre + 'FractimeDay'] = (df[targ_pre + 'Hour'] / 24) + (df[targ_pre + 'Minute'] / 60 / 24) + (df[targ_pre + 'Second'] / 60 / 60 / 24)\n",
    "        \n",
    "        # Add fractional time of week\n",
    "        df[targ_pre + 'FractimeWeek'] = ((df[targ_pre + 'Dayofweek'] * 24) + (df[targ_pre + 'FractimeDay'] * 24)) / (7 * 24)\n",
    "    \n",
    "    # Add seconds since start of reference\n",
    "    df[targ_pre + 'Elapsed'] = (fld - start_ref).dt.total_seconds()\n",
    "    \n",
    "    if drop: \n",
    "        df = df.drop(date_col, axis=1)\n",
    "        \n",
    "    return df"
   ]
  },
  {
   "cell_type": "code",
   "execution_count": 145,
   "metadata": {},
   "outputs": [
    {
     "data": {
      "text/html": [
       "<div>\n",
       "<style scoped>\n",
       "    .dataframe tbody tr th:only-of-type {\n",
       "        vertical-align: middle;\n",
       "    }\n",
       "\n",
       "    .dataframe tbody tr th {\n",
       "        vertical-align: top;\n",
       "    }\n",
       "\n",
       "    .dataframe thead th {\n",
       "        text-align: right;\n",
       "    }\n",
       "</style>\n",
       "<table border=\"1\" class=\"dataframe\">\n",
       "  <thead>\n",
       "    <tr style=\"text-align: right;\">\n",
       "      <th></th>\n",
       "      <th>fare_amount</th>\n",
       "      <th>pickup_datetime</th>\n",
       "      <th>pickup_longitude</th>\n",
       "      <th>pickup_latitude</th>\n",
       "      <th>dropoff_longitude</th>\n",
       "      <th>dropoff_latitude</th>\n",
       "      <th>passenger_count</th>\n",
       "      <th>abs_lat_diff</th>\n",
       "      <th>abs_lon_diff</th>\n",
       "      <th>haversine</th>\n",
       "      <th>...</th>\n",
       "      <th>pickup_Week</th>\n",
       "      <th>pickup_Day</th>\n",
       "      <th>pickup_Dayofweek</th>\n",
       "      <th>pickup_Dayofyear</th>\n",
       "      <th>pickup_Hour</th>\n",
       "      <th>pickup_Minute</th>\n",
       "      <th>pickup_Second</th>\n",
       "      <th>pickup_FractimeDay</th>\n",
       "      <th>pickup_FractimeWeek</th>\n",
       "      <th>pickup_Elapsed</th>\n",
       "    </tr>\n",
       "  </thead>\n",
       "  <tbody>\n",
       "    <tr>\n",
       "      <th>0</th>\n",
       "      <td>4.5</td>\n",
       "      <td>2009-06-15 17:26:21</td>\n",
       "      <td>-73.844311</td>\n",
       "      <td>40.721319</td>\n",
       "      <td>-73.841610</td>\n",
       "      <td>40.712278</td>\n",
       "      <td>1</td>\n",
       "      <td>0.009041</td>\n",
       "      <td>0.002701</td>\n",
       "      <td>1.031896</td>\n",
       "      <td>...</td>\n",
       "      <td>25</td>\n",
       "      <td>15</td>\n",
       "      <td>0</td>\n",
       "      <td>166</td>\n",
       "      <td>17</td>\n",
       "      <td>26</td>\n",
       "      <td>21</td>\n",
       "      <td>0.726632</td>\n",
       "      <td>0.103805</td>\n",
       "      <td>3.454076e+09</td>\n",
       "    </tr>\n",
       "    <tr>\n",
       "      <th>1</th>\n",
       "      <td>16.9</td>\n",
       "      <td>2010-01-05 16:52:16</td>\n",
       "      <td>-74.016048</td>\n",
       "      <td>40.711303</td>\n",
       "      <td>-73.979268</td>\n",
       "      <td>40.782004</td>\n",
       "      <td>1</td>\n",
       "      <td>0.070701</td>\n",
       "      <td>0.036780</td>\n",
       "      <td>8.459418</td>\n",
       "      <td>...</td>\n",
       "      <td>1</td>\n",
       "      <td>5</td>\n",
       "      <td>1</td>\n",
       "      <td>5</td>\n",
       "      <td>16</td>\n",
       "      <td>52</td>\n",
       "      <td>16</td>\n",
       "      <td>0.702963</td>\n",
       "      <td>0.243280</td>\n",
       "      <td>3.471699e+09</td>\n",
       "    </tr>\n",
       "    <tr>\n",
       "      <th>2</th>\n",
       "      <td>5.7</td>\n",
       "      <td>2011-08-18 00:35:00</td>\n",
       "      <td>-73.982738</td>\n",
       "      <td>40.761270</td>\n",
       "      <td>-73.991242</td>\n",
       "      <td>40.750562</td>\n",
       "      <td>2</td>\n",
       "      <td>0.010708</td>\n",
       "      <td>0.008504</td>\n",
       "      <td>1.391052</td>\n",
       "      <td>...</td>\n",
       "      <td>33</td>\n",
       "      <td>18</td>\n",
       "      <td>3</td>\n",
       "      <td>230</td>\n",
       "      <td>0</td>\n",
       "      <td>35</td>\n",
       "      <td>0</td>\n",
       "      <td>0.024306</td>\n",
       "      <td>0.432044</td>\n",
       "      <td>3.522616e+09</td>\n",
       "    </tr>\n",
       "    <tr>\n",
       "      <th>3</th>\n",
       "      <td>7.7</td>\n",
       "      <td>2012-04-21 04:30:42</td>\n",
       "      <td>-73.987130</td>\n",
       "      <td>40.733143</td>\n",
       "      <td>-73.991567</td>\n",
       "      <td>40.758092</td>\n",
       "      <td>1</td>\n",
       "      <td>0.024949</td>\n",
       "      <td>0.004437</td>\n",
       "      <td>2.802346</td>\n",
       "      <td>...</td>\n",
       "      <td>16</td>\n",
       "      <td>21</td>\n",
       "      <td>5</td>\n",
       "      <td>112</td>\n",
       "      <td>4</td>\n",
       "      <td>30</td>\n",
       "      <td>42</td>\n",
       "      <td>0.187986</td>\n",
       "      <td>0.741141</td>\n",
       "      <td>3.543971e+09</td>\n",
       "    </tr>\n",
       "    <tr>\n",
       "      <th>4</th>\n",
       "      <td>5.3</td>\n",
       "      <td>2010-03-09 07:51:00</td>\n",
       "      <td>-73.968095</td>\n",
       "      <td>40.768008</td>\n",
       "      <td>-73.956655</td>\n",
       "      <td>40.783762</td>\n",
       "      <td>1</td>\n",
       "      <td>0.015754</td>\n",
       "      <td>0.011440</td>\n",
       "      <td>2.001353</td>\n",
       "      <td>...</td>\n",
       "      <td>10</td>\n",
       "      <td>9</td>\n",
       "      <td>1</td>\n",
       "      <td>68</td>\n",
       "      <td>7</td>\n",
       "      <td>51</td>\n",
       "      <td>0</td>\n",
       "      <td>0.327083</td>\n",
       "      <td>0.189583</td>\n",
       "      <td>3.477110e+09</td>\n",
       "    </tr>\n",
       "  </tbody>\n",
       "</table>\n",
       "<p>5 rows × 22 columns</p>\n",
       "</div>"
      ],
      "text/plain": [
       "   fare_amount     pickup_datetime  pickup_longitude  pickup_latitude  \\\n",
       "0          4.5 2009-06-15 17:26:21        -73.844311        40.721319   \n",
       "1         16.9 2010-01-05 16:52:16        -74.016048        40.711303   \n",
       "2          5.7 2011-08-18 00:35:00        -73.982738        40.761270   \n",
       "3          7.7 2012-04-21 04:30:42        -73.987130        40.733143   \n",
       "4          5.3 2010-03-09 07:51:00        -73.968095        40.768008   \n",
       "\n",
       "   dropoff_longitude  dropoff_latitude  passenger_count  abs_lat_diff  \\\n",
       "0         -73.841610         40.712278                1      0.009041   \n",
       "1         -73.979268         40.782004                1      0.070701   \n",
       "2         -73.991242         40.750562                2      0.010708   \n",
       "3         -73.991567         40.758092                1      0.024949   \n",
       "4         -73.956655         40.783762                1      0.015754   \n",
       "\n",
       "   abs_lon_diff  haversine       ...        pickup_Week  pickup_Day  \\\n",
       "0      0.002701   1.031896       ...                 25          15   \n",
       "1      0.036780   8.459418       ...                  1           5   \n",
       "2      0.008504   1.391052       ...                 33          18   \n",
       "3      0.004437   2.802346       ...                 16          21   \n",
       "4      0.011440   2.001353       ...                 10           9   \n",
       "\n",
       "   pickup_Dayofweek  pickup_Dayofyear  pickup_Hour  pickup_Minute  \\\n",
       "0                 0               166           17             26   \n",
       "1                 1                 5           16             52   \n",
       "2                 3               230            0             35   \n",
       "3                 5               112            4             30   \n",
       "4                 1                68            7             51   \n",
       "\n",
       "   pickup_Second  pickup_FractimeDay  pickup_FractimeWeek  pickup_Elapsed  \n",
       "0             21            0.726632             0.103805    3.454076e+09  \n",
       "1             16            0.702963             0.243280    3.471699e+09  \n",
       "2              0            0.024306             0.432044    3.522616e+09  \n",
       "3             42            0.187986             0.741141    3.543971e+09  \n",
       "4              0            0.327083             0.189583    3.477110e+09  \n",
       "\n",
       "[5 rows x 22 columns]"
      ]
     },
     "execution_count": 145,
     "metadata": {},
     "output_type": "execute_result"
    }
   ],
   "source": [
    "data = extract_dateinfo(data, 'pickup_datetime', drop = False, time = True)\n",
    "data.head()"
   ]
  },
  {
   "cell_type": "code",
   "execution_count": 150,
   "metadata": {},
   "outputs": [
    {
     "data": {
      "text/html": [
       "<div>\n",
       "<style scoped>\n",
       "    .dataframe tbody tr th:only-of-type {\n",
       "        vertical-align: middle;\n",
       "    }\n",
       "\n",
       "    .dataframe tbody tr th {\n",
       "        vertical-align: top;\n",
       "    }\n",
       "\n",
       "    .dataframe thead th {\n",
       "        text-align: right;\n",
       "    }\n",
       "</style>\n",
       "<table border=\"1\" class=\"dataframe\">\n",
       "  <thead>\n",
       "    <tr style=\"text-align: right;\">\n",
       "      <th></th>\n",
       "      <th>pickup_datetime</th>\n",
       "      <th>pickup_longitude</th>\n",
       "      <th>pickup_latitude</th>\n",
       "      <th>dropoff_longitude</th>\n",
       "      <th>dropoff_latitude</th>\n",
       "      <th>passenger_count</th>\n",
       "      <th>abs_lat_diff</th>\n",
       "      <th>abs_lon_diff</th>\n",
       "      <th>haversine</th>\n",
       "      <th>pickup_Year</th>\n",
       "      <th>...</th>\n",
       "      <th>pickup_Week</th>\n",
       "      <th>pickup_Day</th>\n",
       "      <th>pickup_Dayofweek</th>\n",
       "      <th>pickup_Dayofyear</th>\n",
       "      <th>pickup_Hour</th>\n",
       "      <th>pickup_Minute</th>\n",
       "      <th>pickup_Second</th>\n",
       "      <th>pickup_FractimeDay</th>\n",
       "      <th>pickup_FractimeWeek</th>\n",
       "      <th>pickup_Elapsed</th>\n",
       "    </tr>\n",
       "  </thead>\n",
       "  <tbody>\n",
       "    <tr>\n",
       "      <th>0</th>\n",
       "      <td>2015-01-27 13:08:24</td>\n",
       "      <td>-73.973320</td>\n",
       "      <td>40.763805</td>\n",
       "      <td>-73.981430</td>\n",
       "      <td>40.743835</td>\n",
       "      <td>1</td>\n",
       "      <td>0.019970</td>\n",
       "      <td>0.008110</td>\n",
       "      <td>2.325812</td>\n",
       "      <td>2015</td>\n",
       "      <td>...</td>\n",
       "      <td>5</td>\n",
       "      <td>27</td>\n",
       "      <td>1</td>\n",
       "      <td>27</td>\n",
       "      <td>13</td>\n",
       "      <td>8</td>\n",
       "      <td>24</td>\n",
       "      <td>0.547500</td>\n",
       "      <td>0.221071</td>\n",
       "      <td>3.631353e+09</td>\n",
       "    </tr>\n",
       "    <tr>\n",
       "      <th>1</th>\n",
       "      <td>2015-01-27 13:08:24</td>\n",
       "      <td>-73.986862</td>\n",
       "      <td>40.719383</td>\n",
       "      <td>-73.998886</td>\n",
       "      <td>40.739201</td>\n",
       "      <td>1</td>\n",
       "      <td>0.019817</td>\n",
       "      <td>0.012024</td>\n",
       "      <td>2.428018</td>\n",
       "      <td>2015</td>\n",
       "      <td>...</td>\n",
       "      <td>5</td>\n",
       "      <td>27</td>\n",
       "      <td>1</td>\n",
       "      <td>27</td>\n",
       "      <td>13</td>\n",
       "      <td>8</td>\n",
       "      <td>24</td>\n",
       "      <td>0.547500</td>\n",
       "      <td>0.221071</td>\n",
       "      <td>3.631353e+09</td>\n",
       "    </tr>\n",
       "    <tr>\n",
       "      <th>2</th>\n",
       "      <td>2011-10-08 11:53:44</td>\n",
       "      <td>-73.982524</td>\n",
       "      <td>40.751260</td>\n",
       "      <td>-73.979654</td>\n",
       "      <td>40.746139</td>\n",
       "      <td>1</td>\n",
       "      <td>0.005121</td>\n",
       "      <td>0.002870</td>\n",
       "      <td>0.619308</td>\n",
       "      <td>2011</td>\n",
       "      <td>...</td>\n",
       "      <td>40</td>\n",
       "      <td>8</td>\n",
       "      <td>5</td>\n",
       "      <td>281</td>\n",
       "      <td>11</td>\n",
       "      <td>53</td>\n",
       "      <td>44</td>\n",
       "      <td>0.495648</td>\n",
       "      <td>0.785093</td>\n",
       "      <td>3.527064e+09</td>\n",
       "    </tr>\n",
       "    <tr>\n",
       "      <th>3</th>\n",
       "      <td>2012-12-01 21:12:12</td>\n",
       "      <td>-73.981160</td>\n",
       "      <td>40.767807</td>\n",
       "      <td>-73.990448</td>\n",
       "      <td>40.751635</td>\n",
       "      <td>1</td>\n",
       "      <td>0.016172</td>\n",
       "      <td>0.009288</td>\n",
       "      <td>1.963187</td>\n",
       "      <td>2012</td>\n",
       "      <td>...</td>\n",
       "      <td>48</td>\n",
       "      <td>1</td>\n",
       "      <td>5</td>\n",
       "      <td>336</td>\n",
       "      <td>21</td>\n",
       "      <td>12</td>\n",
       "      <td>12</td>\n",
       "      <td>0.883472</td>\n",
       "      <td>0.840496</td>\n",
       "      <td>3.563385e+09</td>\n",
       "    </tr>\n",
       "    <tr>\n",
       "      <th>4</th>\n",
       "      <td>2012-12-01 21:12:12</td>\n",
       "      <td>-73.966046</td>\n",
       "      <td>40.789775</td>\n",
       "      <td>-73.988565</td>\n",
       "      <td>40.744427</td>\n",
       "      <td>1</td>\n",
       "      <td>0.045348</td>\n",
       "      <td>0.022519</td>\n",
       "      <td>5.393220</td>\n",
       "      <td>2012</td>\n",
       "      <td>...</td>\n",
       "      <td>48</td>\n",
       "      <td>1</td>\n",
       "      <td>5</td>\n",
       "      <td>336</td>\n",
       "      <td>21</td>\n",
       "      <td>12</td>\n",
       "      <td>12</td>\n",
       "      <td>0.883472</td>\n",
       "      <td>0.840496</td>\n",
       "      <td>3.563385e+09</td>\n",
       "    </tr>\n",
       "  </tbody>\n",
       "</table>\n",
       "<p>5 rows × 21 columns</p>\n",
       "</div>"
      ],
      "text/plain": [
       "      pickup_datetime  pickup_longitude  pickup_latitude  dropoff_longitude  \\\n",
       "0 2015-01-27 13:08:24        -73.973320        40.763805         -73.981430   \n",
       "1 2015-01-27 13:08:24        -73.986862        40.719383         -73.998886   \n",
       "2 2011-10-08 11:53:44        -73.982524        40.751260         -73.979654   \n",
       "3 2012-12-01 21:12:12        -73.981160        40.767807         -73.990448   \n",
       "4 2012-12-01 21:12:12        -73.966046        40.789775         -73.988565   \n",
       "\n",
       "   dropoff_latitude  passenger_count  abs_lat_diff  abs_lon_diff  haversine  \\\n",
       "0         40.743835                1      0.019970      0.008110   2.325812   \n",
       "1         40.739201                1      0.019817      0.012024   2.428018   \n",
       "2         40.746139                1      0.005121      0.002870   0.619308   \n",
       "3         40.751635                1      0.016172      0.009288   1.963187   \n",
       "4         40.744427                1      0.045348      0.022519   5.393220   \n",
       "\n",
       "   pickup_Year       ...        pickup_Week  pickup_Day  pickup_Dayofweek  \\\n",
       "0         2015       ...                  5          27                 1   \n",
       "1         2015       ...                  5          27                 1   \n",
       "2         2011       ...                 40           8                 5   \n",
       "3         2012       ...                 48           1                 5   \n",
       "4         2012       ...                 48           1                 5   \n",
       "\n",
       "   pickup_Dayofyear  pickup_Hour  pickup_Minute  pickup_Second  \\\n",
       "0                27           13              8             24   \n",
       "1                27           13              8             24   \n",
       "2               281           11             53             44   \n",
       "3               336           21             12             12   \n",
       "4               336           21             12             12   \n",
       "\n",
       "   pickup_FractimeDay  pickup_FractimeWeek  pickup_Elapsed  \n",
       "0            0.547500             0.221071    3.631353e+09  \n",
       "1            0.547500             0.221071    3.631353e+09  \n",
       "2            0.495648             0.785093    3.527064e+09  \n",
       "3            0.883472             0.840496    3.563385e+09  \n",
       "4            0.883472             0.840496    3.563385e+09  \n",
       "\n",
       "[5 rows x 21 columns]"
      ]
     },
     "execution_count": 150,
     "metadata": {},
     "output_type": "execute_result"
    }
   ],
   "source": [
    "test = extract_dateinfo(test, 'pickup_datetime', drop = False, time = True)\n",
    "test.head()"
   ]
  },
  {
   "cell_type": "code",
   "execution_count": 151,
   "metadata": {},
   "outputs": [],
   "source": [
    "X_train, X_valid, y_train, y_valid = train_test_split(data, np.array(data['fare_amount']), \n",
    "                                                      random_state = 40, test_size = 1_000_000)"
   ]
  },
  {
   "cell_type": "code",
   "execution_count": 152,
   "metadata": {},
   "outputs": [
    {
     "data": {
      "text/plain": [
       "['pickup_Year',\n",
       " 'pickup_Month',\n",
       " 'pickup_Week',\n",
       " 'pickup_Day',\n",
       " 'pickup_Dayofweek',\n",
       " 'pickup_Dayofyear',\n",
       " 'pickup_Hour',\n",
       " 'pickup_Minute',\n",
       " 'pickup_Second',\n",
       " 'pickup_FractimeDay',\n",
       " 'pickup_FractimeWeek',\n",
       " 'pickup_Elapsed']"
      ]
     },
     "execution_count": 152,
     "metadata": {},
     "output_type": "execute_result"
    }
   ],
   "source": [
    "time_features = [x for x in test if 'pickup' in x]\n",
    "time_features.remove('pickup_datetime')\n",
    "time_features.remove('pickup_longitude')\n",
    "time_features.remove('pickup_latitude')\n",
    "time_features"
   ]
  },
  {
   "cell_type": "code",
   "execution_count": 153,
   "metadata": {},
   "outputs": [
    {
     "name": "stderr",
     "output_type": "stream",
     "text": [
      "[Parallel(n_jobs=-1)]: Done  42 tasks      | elapsed: 23.4min\n",
      "[Parallel(n_jobs=-1)]: Done 100 out of 100 | elapsed: 53.2min finished\n",
      "[Parallel(n_jobs=4)]: Done  42 tasks      | elapsed:    3.9s\n",
      "[Parallel(n_jobs=4)]: Done 100 out of 100 | elapsed:    8.9s finished\n",
      "/home/ubuntu/anaconda3/lib/python3.6/site-packages/ipykernel_launcher.py:6: RuntimeWarning: divide by zero encountered in true_divide\n",
      "  \n",
      "[Parallel(n_jobs=4)]: Done  42 tasks      | elapsed:    0.1s\n",
      "[Parallel(n_jobs=4)]: Done 100 out of 100 | elapsed:    0.1s finished\n"
     ]
    },
    {
     "name": "stdout",
     "output_type": "stream",
     "text": [
      "Root mean squared error:  3.993\n",
      "Mean absolute percentage error:  20.4494\n"
     ]
    }
   ],
   "source": [
    "sub, fi = model_rf(X_train, X_valid, y_train, y_valid, test, \n",
    "                   features = ['abs_lat_diff', 'abs_lon_diff', 'haversine', 'passenger_count',\n",
    "                               'pickup_latitude', 'pickup_longitude', 'dropoff_latitude', 'dropoff_longitude'] + time_features)"
   ]
  },
  {
   "cell_type": "code",
   "execution_count": 156,
   "metadata": {},
   "outputs": [
    {
     "ename": "ModuleNotFoundError",
     "evalue": "No module named 'lightgbm'",
     "output_type": "error",
     "traceback": [
      "\u001b[0;31m---------------------------------------------------------------------------\u001b[0m",
      "\u001b[0;31mModuleNotFoundError\u001b[0m                       Traceback (most recent call last)",
      "\u001b[0;32m<ipython-input-156-5dacb4a27011>\u001b[0m in \u001b[0;36m<module>\u001b[0;34m()\u001b[0m\n\u001b[0;32m----> 1\u001b[0;31m \u001b[0;32mimport\u001b[0m \u001b[0mlightgbm\u001b[0m \u001b[0;32mas\u001b[0m \u001b[0mlgb\u001b[0m\u001b[0;34m\u001b[0m\u001b[0m\n\u001b[0m",
      "\u001b[0;31mModuleNotFoundError\u001b[0m: No module named 'lightgbm'"
     ]
    }
   ],
   "source": [
    "import lightgbm as lgb"
   ]
  },
  {
   "cell_type": "code",
   "execution_count": 154,
   "metadata": {},
   "outputs": [],
   "source": [
    "sub.to_csv('sub_rf_time.csv', index = False)"
   ]
  },
  {
   "cell_type": "code",
   "execution_count": null,
   "metadata": {},
   "outputs": [],
   "source": [
    "from sklearn.linear_model import LinearRegression\n",
    "\n",
    "lr = LinearRegression()"
   ]
  },
  {
   "cell_type": "code",
   "execution_count": null,
   "metadata": {},
   "outputs": [],
   "source": [
    "data.head()"
   ]
  },
  {
   "cell_type": "code",
   "execution_count": null,
   "metadata": {},
   "outputs": [],
   "source": [
    "train = data.iloc[:, 5:]\n",
    "\n",
    "labels = np.array(data['fare_amount']).reshape((-1, ))\n",
    "lr.fit(train, labels)"
   ]
  },
  {
   "cell_type": "code",
   "execution_count": null,
   "metadata": {},
   "outputs": [],
   "source": [
    "lr.score(train, labels)"
   ]
  },
  {
   "cell_type": "code",
   "execution_count": null,
   "metadata": {},
   "outputs": [],
   "source": [
    "train.head()"
   ]
  },
  {
   "cell_type": "code",
   "execution_count": null,
   "metadata": {},
   "outputs": [],
   "source": [
    "test = test_.iloc[:, 4:]\n",
    "test = test[train.columns]\n",
    "test.head()"
   ]
  },
  {
   "cell_type": "code",
   "execution_count": null,
   "metadata": {},
   "outputs": [],
   "source": [
    "[x for x in train if x not in test]"
   ]
  },
  {
   "cell_type": "code",
   "execution_count": null,
   "metadata": {},
   "outputs": [],
   "source": [
    "corrs = data.sample(1_000_000).corr()"
   ]
  },
  {
   "cell_type": "code",
   "execution_count": null,
   "metadata": {},
   "outputs": [],
   "source": [
    "corrs.sort_values('fare_amount').tail()"
   ]
  },
  {
   "cell_type": "code",
   "execution_count": null,
   "metadata": {},
   "outputs": [],
   "source": [
    "corrs.sort_values('fare_amount').head()"
   ]
  },
  {
   "cell_type": "code",
   "execution_count": null,
   "metadata": {},
   "outputs": [],
   "source": [
    "data.columns"
   ]
  },
  {
   "cell_type": "code",
   "execution_count": null,
   "metadata": {},
   "outputs": [],
   "source": [
    "from sklearn.metrics import mean_squared_error\n",
    "from sklearn.model_selection import train_test_split\n",
    "\n",
    "subset = data[['abs_lat_diff', 'abs_lon_diff', 'haversine']]\n",
    "\n",
    "X_train, X_valid, y_train, y_valid = train_test_split(subset, labels, test_size = 0.4)\n",
    "\n",
    "test_subset = test[['abs_lat_diff', 'abs_lon_diff']]\n",
    "\n",
    "valid_preds = lr.fit(X_train, y_train).predict(X_valid)\n",
    "print(f'Root mean squared error: {np.sqrt(mean_squared_error(y_valid, valid_preds))}')"
   ]
  },
  {
   "cell_type": "code",
   "execution_count": null,
   "metadata": {},
   "outputs": [],
   "source": [
    "test['abs_lat_diff'].describe()"
   ]
  },
  {
   "cell_type": "code",
   "execution_count": null,
   "metadata": {},
   "outputs": [],
   "source": []
  },
  {
   "cell_type": "code",
   "execution_count": null,
   "metadata": {},
   "outputs": [],
   "source": [
    "lr.intercept_"
   ]
  },
  {
   "cell_type": "code",
   "execution_count": null,
   "metadata": {},
   "outputs": [],
   "source": [
    "lr.coef_"
   ]
  },
  {
   "cell_type": "code",
   "execution_count": null,
   "metadata": {},
   "outputs": [],
   "source": [
    "preds = lr.predict(test)\n",
    "\n",
    "sub = pd.DataFrame({'key': test_id, 'fare_amount': preds})\n",
    "sub.to_csv('sub_lr.csv', index = False)"
   ]
  },
  {
   "cell_type": "code",
   "execution_count": null,
   "metadata": {},
   "outputs": [],
   "source": [
    "plt.hist(preds)"
   ]
  },
  {
   "cell_type": "code",
   "execution_count": null,
   "metadata": {},
   "outputs": [],
   "source": [
    "!cd \"~/git/neural-networks/taxi_fare/\" && kaggle competitions submit -f sub_lr.csv -m \"Corrected Linear Regression\" new-york-city-taxi-fare-prediction"
   ]
  },
  {
   "cell_type": "code",
   "execution_count": 155,
   "metadata": {},
   "outputs": [
    {
     "name": "stdout",
     "output_type": "stream",
     "text": [
      "fileName         date                 description                  status    publicScore        privateScore  \r\n",
      "---------------  -------------------  ---------------------------  --------  -----------------  ------------  \r\n",
      "sub_rf_time.csv  2018-09-05 19:45:00  Random Forest with time      complete  3.09664            None          \r\n",
      "sub_rf.csv       2018-09-05 15:34:41  Random Forest                complete  4.07869            None          \r\n",
      "sub_lr.csv       2018-09-05 15:05:01  Corrected Linear Regression  complete  5.73051            None          \r\n",
      "sub_lr.csv       2018-09-05 15:02:59  Corrected Linear Regression  complete  5.73876            None          \r\n",
      "sub_lr.csv       2018-09-05 14:56:29  Corrected Linear Regression  complete  5.74396            None          \r\n",
      "sub_lr.csv       2018-09-05 01:12:12  Corrected Linear Regression  complete  5.14856            None          \r\n",
      "sub_lr.csv       2018-09-05 01:09:54  Corrected Linear Regression  complete  15034142279.28590  None          \r\n",
      "sub_lr.csv       2018-09-05 00:45:19  Linear Regression            complete  9.32197            None          \r\n",
      "sub_embed.csv    2018-09-04 23:50:32  None                         complete  7.77266            None          \r\n",
      "sub_cyc.csv      2018-09-02 19:54:54  None                         complete  9.92623            None          \r\n",
      "sub.csv          2018-09-02 01:33:32  None                         complete  15.07163           None          \r\n"
     ]
    }
   ],
   "source": [
    "!kaggle competitions submissions new-york-city-taxi-fare-prediction"
   ]
  },
  {
   "cell_type": "code",
   "execution_count": null,
   "metadata": {},
   "outputs": [],
   "source": [
    "from sklearn.ensemble import RandomForestRegressor\n",
    "\n",
    "random_forest = RandomForestRegressor(n_estimators = 100, max_depth = 25, \n",
    "                                      max_features = None, oob_score = True, \n",
    "                                      bootstrap = True, verbose = 1, n_jobs = -1)\n",
    "random_forest.fit(train, labels)"
   ]
  },
  {
   "cell_type": "code",
   "execution_count": null,
   "metadata": {},
   "outputs": [],
   "source": [
    "preds = random_forest.predict(test)\n",
    "\n",
    "sub = pd.DataFrame({'key': test_id, 'fare_amount': preds})\n",
    "sub.to_csv('sub_random_forest.csv', index = False)"
   ]
  },
  {
   "cell_type": "code",
   "execution_count": null,
   "metadata": {},
   "outputs": [],
   "source": [
    "\n",
    "fldname = 'pickup_datetime'\n",
    "targ_pre = re.sub('[Dd]ate$', '', fldname)"
   ]
  },
  {
   "cell_type": "code",
   "execution_count": null,
   "metadata": {},
   "outputs": [],
   "source": [
    "targ_pre"
   ]
  },
  {
   "cell_type": "code",
   "execution_count": null,
   "metadata": {},
   "outputs": [],
   "source": []
  }
 ],
 "metadata": {
  "kernelspec": {
   "display_name": "Python 3",
   "language": "python",
   "name": "python3"
  },
  "language_info": {
   "codemirror_mode": {
    "name": "ipython",
    "version": 3
   },
   "file_extension": ".py",
   "mimetype": "text/x-python",
   "name": "python",
   "nbconvert_exporter": "python",
   "pygments_lexer": "ipython3",
   "version": "3.6.4"
  }
 },
 "nbformat": 4,
 "nbformat_minor": 2
}
